{
 "cells": [
  {
   "cell_type": "code",
   "execution_count": 128,
   "metadata": {},
   "outputs": [],
   "source": [
    "import numpy as np\n",
    "import pandas as pd\n",
    "import re"
   ]
  },
  {
   "attachments": {},
   "cell_type": "markdown",
   "metadata": {},
   "source": [
    "## Cleaning CSV file for database"
   ]
  },
  {
   "cell_type": "code",
   "execution_count": 129,
   "metadata": {},
   "outputs": [],
   "source": [
    "df = pd.read_csv('profiles_revised.csv')\n",
    "col_to_drop = ['body_type', 'drugs', 'height', 'income', 'offspring', 'orientation', 'sign', 'status']\n",
    "df.drop(columns=col_to_drop, inplace=True)\n"
   ]
  },
  {
   "cell_type": "code",
   "execution_count": 130,
   "metadata": {},
   "outputs": [
    {
     "data": {
      "text/plain": [
       "Index(['age', 'diet', 'drinks', 'education', 'ethnicity', 'job', 'pets',\n",
       "       'religion', 'sex', 'smokes', 'speaks'],\n",
       "      dtype='object')"
      ]
     },
     "execution_count": 130,
     "metadata": {},
     "output_type": "execute_result"
    }
   ],
   "source": [
    "df.columns"
   ]
  },
  {
   "cell_type": "code",
   "execution_count": 131,
   "metadata": {},
   "outputs": [],
   "source": [
    "\n",
    "\n",
    "df.fillna('other', inplace=True)\n"
   ]
  },
  {
   "cell_type": "code",
   "execution_count": 132,
   "metadata": {},
   "outputs": [
    {
     "data": {
      "text/plain": [
       "array(['anything', 'other', 'vegetarian', 'vegan', 'halal', 'kosher'],\n",
       "      dtype=object)"
      ]
     },
     "execution_count": 132,
     "metadata": {},
     "output_type": "execute_result"
    }
   ],
   "source": [
    "df['diet'] = df['diet'].apply(lambda x: x.split()[-1])\n",
    "df.diet.unique()"
   ]
  },
  {
   "cell_type": "code",
   "execution_count": 133,
   "metadata": {},
   "outputs": [
    {
     "data": {
      "text/plain": [
       "array(['Asian', 'Caucasian', 'other', 'Hispanic/Latin',\n",
       "       'Pacific Islander', 'Afro-American', 'Middle Eastern',\n",
       "       'Native American', 'Indian'], dtype=object)"
      ]
     },
     "execution_count": 133,
     "metadata": {},
     "output_type": "execute_result"
    }
   ],
   "source": [
    "df['ethnicity'] = df['ethnicity'].apply(lambda x: x.split(', ')[0])\n",
    "\n",
    "df['ethnicity'].replace({'asian': 'Asian', 'white':'Caucasian', 'hispanic / latin': 'Hispanic/Latin',\n",
    "                            'pacific islander': 'Pacific Islander', 'black': 'Afro-American', 'middle eastern': 'Middle Eastern',\n",
    "                            'native american': 'Native American', 'indian': 'Indian'}, inplace=True)\n",
    "\n",
    "df.ethnicity.unique()"
   ]
  },
  {
   "cell_type": "code",
   "execution_count": 134,
   "metadata": {},
   "outputs": [
    {
     "data": {
      "text/plain": [
       "array(['socially', 'often', 'not at all', 'rarely', 'other', 'very often'],\n",
       "      dtype=object)"
      ]
     },
     "execution_count": 134,
     "metadata": {},
     "output_type": "execute_result"
    }
   ],
   "source": [
    "df['drinks'].replace({'desperately': 'other'}, inplace=True)\n",
    "df['drinks'].unique()"
   ]
  },
  {
   "cell_type": "code",
   "execution_count": 135,
   "metadata": {},
   "outputs": [
    {
     "data": {
      "text/plain": [
       "array(['working on college/university', 'working on space camp',\n",
       "       'graduated from masters program',\n",
       "       'graduated from college/university', 'working on two-year college',\n",
       "       'other', 'graduated from high school',\n",
       "       'working on masters program', 'graduated from space camp',\n",
       "       'college/university', 'dropped out of space camp',\n",
       "       'graduated from ph.d program', 'graduated from law school',\n",
       "       'working on ph.d program', 'two-year college',\n",
       "       'graduated from two-year college', 'working on med school',\n",
       "       'dropped out of college/university', 'space camp',\n",
       "       'graduated from med school', 'dropped out of high school',\n",
       "       'working on high school', 'masters program',\n",
       "       'dropped out of ph.d program', 'dropped out of two-year college',\n",
       "       'dropped out of med school', 'high school',\n",
       "       'working on law school', 'law school',\n",
       "       'dropped out of masters program', 'ph.d program',\n",
       "       'dropped out of law school', 'med school'], dtype=object)"
      ]
     },
     "execution_count": 135,
     "metadata": {},
     "output_type": "execute_result"
    }
   ],
   "source": [
    "df['education'].unique()\n"
   ]
  },
  {
   "cell_type": "code",
   "execution_count": 136,
   "metadata": {},
   "outputs": [
    {
     "data": {
      "text/plain": [
       "array(['college/university', 'space camp', 'masters program',\n",
       "       'two-year college', 'other', 'high school', 'ph.d program',\n",
       "       'law school', 'med school'], dtype=object)"
      ]
     },
     "execution_count": 136,
     "metadata": {},
     "output_type": "execute_result"
    }
   ],
   "source": [
    "df['education'] = df['education'].str.replace('working on ', '')\n",
    "df['education'] = df['education'].str.replace('graduated from ', '')\n",
    "df['education'] = df['education'].str.replace('dropped out of ', '')\n",
    "\n",
    "df.education.unique()"
   ]
  },
  {
   "cell_type": "code",
   "execution_count": 137,
   "metadata": {},
   "outputs": [
    {
     "data": {
      "text/plain": [
       "array(['transportation', 'hospitality / travel', 'other', 'student',\n",
       "       'artistic / musical / writer', 'computer / hardware / software',\n",
       "       'banking / financial / real estate', 'entertainment / media',\n",
       "       'sales / marketing / biz dev', 'medicine / health',\n",
       "       'science / tech / engineering', 'executive / management',\n",
       "       'education / academia', 'clerical / administrative',\n",
       "       'construction / craftsmanship', 'political / government',\n",
       "       'law / legal services', 'unemployed', 'military', 'retired'],\n",
       "      dtype=object)"
      ]
     },
     "execution_count": 137,
     "metadata": {},
     "output_type": "execute_result"
    }
   ],
   "source": [
    "df['job'].replace({'rather not say': 'other'}, inplace=True)\n",
    "df.job.unique()\n"
   ]
  },
  {
   "cell_type": "code",
   "execution_count": 163,
   "metadata": {},
   "outputs": [
    {
     "data": {
      "text/plain": [
       "0        likes dogs and likes cats\n",
       "1        likes dogs and likes cats\n",
       "2                         has cats\n",
       "3                       likes cats\n",
       "4        likes dogs and likes cats\n",
       "                   ...            \n",
       "59941                     has dogs\n",
       "59942    likes dogs and likes cats\n",
       "59943                        other\n",
       "59944    likes dogs and likes cats\n",
       "59945    likes dogs and likes cats\n",
       "Name: pets, Length: 59946, dtype: object"
      ]
     },
     "execution_count": 163,
     "metadata": {},
     "output_type": "execute_result"
    }
   ],
   "source": [
    "df.pets"
   ]
  },
  {
   "cell_type": "code",
   "execution_count": 147,
   "metadata": {},
   "outputs": [
    {
     "data": {
      "text/plain": [
       "'likes dogs and likes cats'"
      ]
     },
     "execution_count": 147,
     "metadata": {},
     "output_type": "execute_result"
    }
   ],
   "source": [
    "string = df.pets.iloc[0]\n",
    "string"
   ]
  },
  {
   "cell_type": "code",
   "execution_count": 185,
   "metadata": {},
   "outputs": [
    {
     "ename": "AttributeError",
     "evalue": "'NoneType' object has no attribute 'group'",
     "output_type": "error",
     "traceback": [
      "\u001b[0;31m---------------------------------------------------------------------------\u001b[0m",
      "\u001b[0;31mAttributeError\u001b[0m                            Traceback (most recent call last)",
      "\u001b[0;32m/tmp/ipykernel_14979/2925578627.py\u001b[0m in \u001b[0;36m<module>\u001b[0;34m\u001b[0m\n\u001b[1;32m      1\u001b[0m \u001b[0mmatch\u001b[0m \u001b[0;34m=\u001b[0m \u001b[0mre\u001b[0m\u001b[0;34m.\u001b[0m\u001b[0mmatch\u001b[0m\u001b[0;34m(\u001b[0m\u001b[0;34m'([a-z]*) cats'\u001b[0m\u001b[0;34m,\u001b[0m \u001b[0mstring\u001b[0m\u001b[0;34m)\u001b[0m\u001b[0;34m\u001b[0m\u001b[0;34m\u001b[0m\u001b[0m\n\u001b[0;32m----> 2\u001b[0;31m \u001b[0mmatch\u001b[0m\u001b[0;34m.\u001b[0m\u001b[0mgroup\u001b[0m\u001b[0;34m(\u001b[0m\u001b[0;36m1\u001b[0m\u001b[0;34m)\u001b[0m\u001b[0;34m\u001b[0m\u001b[0;34m\u001b[0m\u001b[0m\n\u001b[0m",
      "\u001b[0;31mAttributeError\u001b[0m: 'NoneType' object has no attribute 'group'"
     ]
    }
   ],
   "source": [
    "match = re.match('([a-z]*) cats', string)\n",
    "match.group(1)"
   ]
  },
  {
   "cell_type": "code",
   "execution_count": 177,
   "metadata": {},
   "outputs": [
    {
     "data": {
      "text/plain": [
       "array(['likes'], dtype=object)"
      ]
     },
     "execution_count": 177,
     "metadata": {},
     "output_type": "execute_result"
    }
   ],
   "source": [
    "df['dogs'] = df.pets.apply(lambda x: re.match('([a-z]*) dogs', string)[1])\n",
    "# df['cats'] = df.pets.apply(lambda x: re.match('([a-z]*) cats', string)[1])\n",
    "df.dogs.unique()"
   ]
  },
  {
   "cell_type": "code",
   "execution_count": 164,
   "metadata": {},
   "outputs": [
    {
     "data": {
      "text/plain": [
       "0        likes\n",
       "1        likes\n",
       "2        likes\n",
       "3        likes\n",
       "4        likes\n",
       "         ...  \n",
       "59941    likes\n",
       "59942    likes\n",
       "59943    likes\n",
       "59944    likes\n",
       "59945    likes\n",
       "Name: cats, Length: 59946, dtype: object"
      ]
     },
     "execution_count": 164,
     "metadata": {},
     "output_type": "execute_result"
    }
   ],
   "source": [
    "df.cats"
   ]
  },
  {
   "cell_type": "code",
   "execution_count": 139,
   "metadata": {},
   "outputs": [
    {
     "data": {
      "text/plain": [
       "array(['agnosticism', 'other', 'atheism', 'christianity', 'catholicism',\n",
       "       'buddhism', 'judaism', 'hinduism', 'islam'], dtype=object)"
      ]
     },
     "execution_count": 139,
     "metadata": {},
     "output_type": "execute_result"
    }
   ],
   "source": [
    "df['religion'] = df['religion'].apply(lambda x: x.split()[0])\n",
    "df.religion.unique()"
   ]
  },
  {
   "cell_type": "code",
   "execution_count": 140,
   "metadata": {},
   "outputs": [
    {
     "data": {
      "text/plain": [
       "m    35829\n",
       "f    24117\n",
       "Name: sex, dtype: int64"
      ]
     },
     "execution_count": 140,
     "metadata": {},
     "output_type": "execute_result"
    }
   ],
   "source": [
    "df.sex.value_counts()"
   ]
  },
  {
   "cell_type": "code",
   "execution_count": 141,
   "metadata": {},
   "outputs": [
    {
     "data": {
      "text/plain": [
       "array(['sometimes', 'no', 'other', 'when drinking', 'yes',\n",
       "       'trying to quit'], dtype=object)"
      ]
     },
     "execution_count": 141,
     "metadata": {},
     "output_type": "execute_result"
    }
   ],
   "source": [
    "df.smokes.unique()"
   ]
  },
  {
   "cell_type": "code",
   "execution_count": 142,
   "metadata": {},
   "outputs": [
    {
     "data": {
      "text/plain": [
       "array(['english', 'english (fluently), spanish (poorly), french (poorly)',\n",
       "       'english, french, c++', ...,\n",
       "       'english (fluently), hindi (poorly), french (poorly), tamil (okay), spanish (poorly)',\n",
       "       'english (fluently), french (poorly), japanese (poorly), latin (poorly)',\n",
       "       'english (fluently), french, farsi'], dtype=object)"
      ]
     },
     "execution_count": 142,
     "metadata": {},
     "output_type": "execute_result"
    }
   ],
   "source": [
    "df.speaks.unique()"
   ]
  },
  {
   "cell_type": "code",
   "execution_count": 143,
   "metadata": {},
   "outputs": [
    {
     "data": {
      "text/plain": [
       "'english, spanish, french'"
      ]
     },
     "execution_count": 143,
     "metadata": {},
     "output_type": "execute_result"
    }
   ],
   "source": [
    "string = df.speaks.iloc[1]\n",
    "re.sub(' (\\([a-z]*\\))', '', string)"
   ]
  },
  {
   "cell_type": "code",
   "execution_count": 144,
   "metadata": {},
   "outputs": [],
   "source": [
    "df['speaks'] = df.speaks.apply(lambda x: re.sub(' (\\([a-z]*\\))', '', x))\n"
   ]
  },
  {
   "cell_type": "code",
   "execution_count": 145,
   "metadata": {},
   "outputs": [],
   "source": [
    "df['speaks'] = df['speaks'].apply(lambda x: re.sub('(, c\\++)', '', x))\n",
    "df['speaks'] = df['speaks'].str.split(' ,')"
   ]
  }
 ],
 "metadata": {
  "kernelspec": {
   "display_name": "base",
   "language": "python",
   "name": "python3"
  },
  "language_info": {
   "codemirror_mode": {
    "name": "ipython",
    "version": 3
   },
   "file_extension": ".py",
   "mimetype": "text/x-python",
   "name": "python",
   "nbconvert_exporter": "python",
   "pygments_lexer": "ipython3",
   "version": "3.9.13"
  },
  "orig_nbformat": 4,
  "vscode": {
   "interpreter": {
    "hash": "18ddd52115af43e00f59bb7c7623774c889301839a50976f28957e46bb281024"
   }
  }
 },
 "nbformat": 4,
 "nbformat_minor": 2
}
