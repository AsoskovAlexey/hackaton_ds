{
 "cells": [
  {
   "cell_type": "code",
   "execution_count": 1,
   "metadata": {},
   "outputs": [],
   "source": [
    "import numpy as np\n",
    "import pandas as pd\n",
    "import re"
   ]
  },
  {
   "attachments": {},
   "cell_type": "markdown",
   "metadata": {},
   "source": [
    "## Cleaning CSV file for database"
   ]
  },
  {
   "cell_type": "code",
   "execution_count": 2,
   "metadata": {},
   "outputs": [],
   "source": [
    "df = pd.read_csv('profiles_revised.csv')\n",
    "col_to_drop = ['body_type', 'drugs', 'height', 'income', 'offspring', 'orientation', 'sign', 'status']\n",
    "df.drop(columns=col_to_drop, inplace=True)\n"
   ]
  },
  {
   "cell_type": "code",
   "execution_count": 3,
   "metadata": {},
   "outputs": [
    {
     "data": {
      "text/plain": [
       "Index(['age', 'diet', 'drinks', 'education', 'ethnicity', 'job', 'pets',\n",
       "       'religion', 'sex', 'smokes', 'speaks'],\n",
       "      dtype='object')"
      ]
     },
     "execution_count": 3,
     "metadata": {},
     "output_type": "execute_result"
    }
   ],
   "source": [
    "df.columns"
   ]
  },
  {
   "cell_type": "code",
   "execution_count": 4,
   "metadata": {},
   "outputs": [],
   "source": [
    "\n",
    "\n",
    "df.fillna('other', inplace=True)\n"
   ]
  },
  {
   "cell_type": "code",
   "execution_count": 5,
   "metadata": {},
   "outputs": [
    {
     "data": {
      "text/plain": [
       "array(['anything', 'other', 'vegetarian', 'vegan', 'halal', 'kosher'],\n",
       "      dtype=object)"
      ]
     },
     "execution_count": 5,
     "metadata": {},
     "output_type": "execute_result"
    }
   ],
   "source": [
    "df['diet'] = df['diet'].apply(lambda x: x.split()[-1])\n",
    "df.diet.unique()"
   ]
  },
  {
   "cell_type": "code",
   "execution_count": 6,
   "metadata": {},
   "outputs": [
    {
     "data": {
      "text/plain": [
       "array(['Asian', 'Caucasian', 'other', 'Hispanic/Latin',\n",
       "       'Pacific Islander', 'Afro-American', 'Middle Eastern',\n",
       "       'Native American', 'Indian'], dtype=object)"
      ]
     },
     "execution_count": 6,
     "metadata": {},
     "output_type": "execute_result"
    }
   ],
   "source": [
    "df['ethnicity'] = df['ethnicity'].apply(lambda x: x.split(', ')[0])\n",
    "\n",
    "df['ethnicity'].replace({'asian': 'Asian', 'white':'Caucasian', 'hispanic / latin': 'Hispanic/Latin',\n",
    "                            'pacific islander': 'Pacific Islander', 'black': 'Afro-American', 'middle eastern': 'Middle Eastern',\n",
    "                            'native american': 'Native American', 'indian': 'Indian'}, inplace=True)\n",
    "\n",
    "df.ethnicity.unique()"
   ]
  },
  {
   "cell_type": "code",
   "execution_count": 7,
   "metadata": {},
   "outputs": [
    {
     "data": {
      "text/plain": [
       "array(['socially', 'often', 'not at all', 'rarely', 'other', 'very often'],\n",
       "      dtype=object)"
      ]
     },
     "execution_count": 7,
     "metadata": {},
     "output_type": "execute_result"
    }
   ],
   "source": [
    "df['drinks'].replace({'desperately': 'other'}, inplace=True)\n",
    "df['drinks'].unique()"
   ]
  },
  {
   "cell_type": "code",
   "execution_count": 8,
   "metadata": {},
   "outputs": [
    {
     "data": {
      "text/plain": [
       "array(['working on college/university', 'working on space camp',\n",
       "       'graduated from masters program',\n",
       "       'graduated from college/university', 'working on two-year college',\n",
       "       'other', 'graduated from high school',\n",
       "       'working on masters program', 'graduated from space camp',\n",
       "       'college/university', 'dropped out of space camp',\n",
       "       'graduated from ph.d program', 'graduated from law school',\n",
       "       'working on ph.d program', 'two-year college',\n",
       "       'graduated from two-year college', 'working on med school',\n",
       "       'dropped out of college/university', 'space camp',\n",
       "       'graduated from med school', 'dropped out of high school',\n",
       "       'working on high school', 'masters program',\n",
       "       'dropped out of ph.d program', 'dropped out of two-year college',\n",
       "       'dropped out of med school', 'high school',\n",
       "       'working on law school', 'law school',\n",
       "       'dropped out of masters program', 'ph.d program',\n",
       "       'dropped out of law school', 'med school'], dtype=object)"
      ]
     },
     "execution_count": 8,
     "metadata": {},
     "output_type": "execute_result"
    }
   ],
   "source": [
    "df['education'].unique()\n"
   ]
  },
  {
   "cell_type": "code",
   "execution_count": 9,
   "metadata": {},
   "outputs": [
    {
     "data": {
      "text/plain": [
       "array(['college/university', 'space camp', 'masters program',\n",
       "       'two-year college', 'other', 'high school', 'ph.d program',\n",
       "       'law school', 'med school'], dtype=object)"
      ]
     },
     "execution_count": 9,
     "metadata": {},
     "output_type": "execute_result"
    }
   ],
   "source": [
    "df['education'] = df['education'].str.replace('working on ', '')\n",
    "df['education'] = df['education'].str.replace('graduated from ', '')\n",
    "df['education'] = df['education'].str.replace('dropped out of ', '')\n",
    "\n",
    "df.education.unique()"
   ]
  },
  {
   "cell_type": "code",
   "execution_count": 10,
   "metadata": {},
   "outputs": [
    {
     "data": {
      "text/plain": [
       "array(['transportation', 'hospitality / travel', 'other', 'student',\n",
       "       'artistic / musical / writer', 'computer / hardware / software',\n",
       "       'banking / financial / real estate', 'entertainment / media',\n",
       "       'sales / marketing / biz dev', 'medicine / health',\n",
       "       'science / tech / engineering', 'executive / management',\n",
       "       'education / academia', 'clerical / administrative',\n",
       "       'construction / craftsmanship', 'political / government',\n",
       "       'law / legal services', 'unemployed', 'military', 'retired'],\n",
       "      dtype=object)"
      ]
     },
     "execution_count": 10,
     "metadata": {},
     "output_type": "execute_result"
    }
   ],
   "source": [
    "df['job'].replace({'rather not say': 'other'}, inplace=True)\n",
    "df.job.unique()\n"
   ]
  },
  {
   "cell_type": "code",
   "execution_count": 11,
   "metadata": {},
   "outputs": [
    {
     "data": {
      "text/plain": [
       "0        likes dogs and likes cats\n",
       "1        likes dogs and likes cats\n",
       "2                         has cats\n",
       "3                       likes cats\n",
       "4        likes dogs and likes cats\n",
       "                   ...            \n",
       "59941                     has dogs\n",
       "59942    likes dogs and likes cats\n",
       "59943                        other\n",
       "59944    likes dogs and likes cats\n",
       "59945    likes dogs and likes cats\n",
       "Name: pets, Length: 59946, dtype: object"
      ]
     },
     "execution_count": 11,
     "metadata": {},
     "output_type": "execute_result"
    }
   ],
   "source": [
    "df.pets"
   ]
  },
  {
   "cell_type": "code",
   "execution_count": null,
   "metadata": {},
   "outputs": [],
   "source": []
  },
  {
   "cell_type": "code",
   "execution_count": 12,
   "metadata": {},
   "outputs": [],
   "source": [
    "cats  = []\n",
    "dogs = []\n",
    "for i, string in enumerate(df.pets.values):\n",
    "    match_cats = re.search('([a-z]*) cats', string)\n",
    "    match_dogs = re.search('([a-z]*) dogs', string)\n",
    "    cats.append(match_cats[1] if match_cats else 'other')\n",
    "    dogs.append(match_dogs[1] if match_dogs else 'other')\n",
    "\n",
    "df['cats'] = cats\n",
    "df['dogs'] = dogs\n"
   ]
  },
  {
   "cell_type": "code",
   "execution_count": 13,
   "metadata": {},
   "outputs": [
    {
     "data": {
      "text/plain": [
       "array(['likes', 'has', 'other', 'dislikes'], dtype=object)"
      ]
     },
     "execution_count": 13,
     "metadata": {},
     "output_type": "execute_result"
    }
   ],
   "source": [
    "df.cats.unique()"
   ]
  },
  {
   "cell_type": "code",
   "execution_count": 14,
   "metadata": {},
   "outputs": [],
   "source": [
    "df.drop(columns='pets', inplace=True)"
   ]
  },
  {
   "cell_type": "code",
   "execution_count": 15,
   "metadata": {},
   "outputs": [
    {
     "data": {
      "text/plain": [
       "array(['agnosticism', 'other', 'atheism', 'christianity', 'catholicism',\n",
       "       'buddhism', 'judaism', 'hinduism', 'islam'], dtype=object)"
      ]
     },
     "execution_count": 15,
     "metadata": {},
     "output_type": "execute_result"
    }
   ],
   "source": [
    "df['religion'] = df['religion'].apply(lambda x: x.split()[0])\n",
    "df.religion.unique()"
   ]
  },
  {
   "cell_type": "code",
   "execution_count": 16,
   "metadata": {},
   "outputs": [
    {
     "data": {
      "text/plain": [
       "m    35829\n",
       "f    24117\n",
       "Name: sex, dtype: int64"
      ]
     },
     "execution_count": 16,
     "metadata": {},
     "output_type": "execute_result"
    }
   ],
   "source": [
    "df.sex.value_counts()"
   ]
  },
  {
   "cell_type": "code",
   "execution_count": 17,
   "metadata": {},
   "outputs": [
    {
     "data": {
      "text/plain": [
       "array(['sometimes', 'no', 'other', 'when drinking', 'yes',\n",
       "       'trying to quit'], dtype=object)"
      ]
     },
     "execution_count": 17,
     "metadata": {},
     "output_type": "execute_result"
    }
   ],
   "source": [
    "df.smokes.unique()"
   ]
  },
  {
   "cell_type": "code",
   "execution_count": 18,
   "metadata": {},
   "outputs": [
    {
     "data": {
      "text/plain": [
       "array(['english', 'english (fluently), spanish (poorly), french (poorly)',\n",
       "       'english, french, c++', ...,\n",
       "       'english (fluently), hindi (poorly), french (poorly), tamil (okay), spanish (poorly)',\n",
       "       'english (fluently), french (poorly), japanese (poorly), latin (poorly)',\n",
       "       'english (fluently), french, farsi'], dtype=object)"
      ]
     },
     "execution_count": 18,
     "metadata": {},
     "output_type": "execute_result"
    }
   ],
   "source": [
    "df.speaks.unique()"
   ]
  },
  {
   "cell_type": "code",
   "execution_count": 19,
   "metadata": {},
   "outputs": [
    {
     "data": {
      "text/plain": [
       "'english, spanish, french'"
      ]
     },
     "execution_count": 19,
     "metadata": {},
     "output_type": "execute_result"
    }
   ],
   "source": [
    "string = df.speaks.iloc[1]\n",
    "re.sub(' (\\([a-z]*\\))', '', string)"
   ]
  },
  {
   "cell_type": "code",
   "execution_count": 20,
   "metadata": {},
   "outputs": [],
   "source": [
    "df['speaks'] = df.speaks.apply(lambda x: re.sub(' (\\([a-z]*\\))', '', x))\n"
   ]
  },
  {
   "cell_type": "code",
   "execution_count": 21,
   "metadata": {},
   "outputs": [],
   "source": [
    "df['speaks'] = df['speaks'].apply(lambda x: re.sub('(, c\\++)', '', x))\n",
    "df['speaks'] = df['speaks'].str.split(' ,')"
   ]
  },
  {
   "cell_type": "code",
   "execution_count": 23,
   "metadata": {},
   "outputs": [],
   "source": [
    "df.to_csv('profiles_for_db.csv', index=False)"
   ]
  }
 ],
 "metadata": {
  "kernelspec": {
   "display_name": "base",
   "language": "python",
   "name": "python3"
  },
  "language_info": {
   "codemirror_mode": {
    "name": "ipython",
    "version": 3
   },
   "file_extension": ".py",
   "mimetype": "text/x-python",
   "name": "python",
   "nbconvert_exporter": "python",
   "pygments_lexer": "ipython3",
   "version": "3.9.13"
  },
  "orig_nbformat": 4,
  "vscode": {
   "interpreter": {
    "hash": "18ddd52115af43e00f59bb7c7623774c889301839a50976f28957e46bb281024"
   }
  }
 },
 "nbformat": 4,
 "nbformat_minor": 2
}
